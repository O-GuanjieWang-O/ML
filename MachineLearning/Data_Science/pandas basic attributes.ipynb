{
 "cells": [
  {
   "cell_type": "code",
   "execution_count": 65,
   "id": "49508db6",
   "metadata": {},
   "outputs": [],
   "source": [
    "import numpy as np\n",
    "import pandas as pd"
   ]
  },
  {
   "cell_type": "code",
   "execution_count": 66,
   "id": "f5cbcb23",
   "metadata": {},
   "outputs": [],
   "source": [
    "index = pd.date_range(\"1/1/2000\", periods=8)"
   ]
  },
  {
   "cell_type": "code",
   "execution_count": 67,
   "id": "1d98b3f3",
   "metadata": {},
   "outputs": [],
   "source": [
    "s = pd.Series(np.random.randn(5), index=[\"a\", \"b\", \"c\", \"d\", \"e\"])\n",
    "df = pd.DataFrame(np.random.randn(8, 3), index=index, columns=[\"A\", \"B\", \"C\"])"
   ]
  },
  {
   "cell_type": "code",
   "execution_count": 89,
   "id": "ed3009d0",
   "metadata": {},
   "outputs": [
    {
     "name": "stdout",
     "output_type": "stream",
     "text": [
      "a    0.091693\n",
      "b   -0.627610\n",
      "c    0.008635\n",
      "d    0.808967\n",
      "e   -0.380636\n",
      "dtype: float64\n",
      "                   A         B         C\n",
      "2000-01-01 -0.645757 -0.699701 -2.091748\n",
      "2000-01-02 -0.628477  1.745387  1.012103\n",
      "2000-01-03 -0.268163 -1.187973       NaN\n",
      "2000-01-04 -1.571682 -0.563264  0.846843\n",
      "2000-01-05 -0.268163  0.304404       NaN\n",
      "2000-01-06  0.264803 -0.198842  1.040084\n",
      "2000-01-07  0.100862 -0.411988 -1.135035\n",
      "2000-01-08  0.871272 -0.014444  0.363459\n"
     ]
    }
   ],
   "source": [
    "print(s)\n",
    "print(df)"
   ]
  },
  {
   "cell_type": "code",
   "execution_count": 69,
   "id": "04e75b7b",
   "metadata": {},
   "outputs": [],
   "source": [
    "# print(s.head(3))\n",
    "# print(df.head())"
   ]
  },
  {
   "cell_type": "code",
   "execution_count": 80,
   "id": "f249e5dc",
   "metadata": {},
   "outputs": [],
   "source": [
    "df.iloc[[4,2],[0,2]]=np.nan\n"
   ]
  },
  {
   "cell_type": "code",
   "execution_count": 88,
   "id": "48843343",
   "metadata": {},
   "outputs": [
    {
     "name": "stdout",
     "output_type": "stream",
     "text": [
      "                   A         B         C\n",
      "2000-01-01 -0.645757 -0.699701 -2.091748\n",
      "2000-01-02 -0.628477  1.745387  1.012103\n",
      "2000-01-03 -0.268163 -1.187973       NaN\n",
      "2000-01-04 -1.571682 -0.563264  0.846843\n",
      "2000-01-05 -0.268163  0.304404       NaN\n",
      "2000-01-06  0.264803 -0.198842  1.040084\n",
      "2000-01-07  0.100862 -0.411988 -1.135035\n",
      "2000-01-08  0.871272 -0.014444  0.363459\n",
      "A   -0.268163\n",
      "B   -0.128303\n",
      "C    0.005951\n",
      "dtype: float64\n"
     ]
    }
   ],
   "source": [
    "print(df)\n",
    "print(df.mean())"
   ]
  },
  {
   "cell_type": "code",
   "execution_count": 93,
   "id": "af998a48",
   "metadata": {},
   "outputs": [],
   "source": [
    "# df[\"A\"].fillna(df[\"A\"].mean(),inplace=True)\n",
    "df=df.dropna()"
   ]
  },
  {
   "cell_type": "code",
   "execution_count": 95,
   "id": "b9bdb09f",
   "metadata": {},
   "outputs": [
    {
     "name": "stdout",
     "output_type": "stream",
     "text": [
      "<class 'pandas.core.frame.DataFrame'>\n",
      "DatetimeIndex: 6 entries, 2000-01-01 to 2000-01-08\n",
      "Data columns (total 3 columns):\n",
      " #   Column  Non-Null Count  Dtype  \n",
      "---  ------  --------------  -----  \n",
      " 0   A       6 non-null      float64\n",
      " 1   B       6 non-null      float64\n",
      " 2   C       6 non-null      float64\n",
      "dtypes: float64(3)\n",
      "memory usage: 192.0 bytes\n"
     ]
    }
   ],
   "source": [
    "df.info()"
   ]
  },
  {
   "cell_type": "code",
   "execution_count": 99,
   "id": "8c159129",
   "metadata": {},
   "outputs": [
    {
     "data": {
      "text/html": [
       "<div>\n",
       "<style scoped>\n",
       "    .dataframe tbody tr th:only-of-type {\n",
       "        vertical-align: middle;\n",
       "    }\n",
       "\n",
       "    .dataframe tbody tr th {\n",
       "        vertical-align: top;\n",
       "    }\n",
       "\n",
       "    .dataframe thead th {\n",
       "        text-align: right;\n",
       "    }\n",
       "</style>\n",
       "<table border=\"1\" class=\"dataframe\">\n",
       "  <thead>\n",
       "    <tr style=\"text-align: right;\">\n",
       "      <th></th>\n",
       "      <th>A</th>\n",
       "      <th>B</th>\n",
       "      <th>C</th>\n",
       "    </tr>\n",
       "  </thead>\n",
       "  <tbody>\n",
       "    <tr>\n",
       "      <th>2000-01-08</th>\n",
       "      <td>0.871272</td>\n",
       "      <td>-0.014444</td>\n",
       "      <td>0.363459</td>\n",
       "    </tr>\n",
       "    <tr>\n",
       "      <th>2000-01-06</th>\n",
       "      <td>0.264803</td>\n",
       "      <td>-0.198842</td>\n",
       "      <td>1.040084</td>\n",
       "    </tr>\n",
       "    <tr>\n",
       "      <th>2000-01-07</th>\n",
       "      <td>0.100862</td>\n",
       "      <td>-0.411988</td>\n",
       "      <td>-1.135035</td>\n",
       "    </tr>\n",
       "    <tr>\n",
       "      <th>2000-01-02</th>\n",
       "      <td>-0.628477</td>\n",
       "      <td>1.745387</td>\n",
       "      <td>1.012103</td>\n",
       "    </tr>\n",
       "    <tr>\n",
       "      <th>2000-01-01</th>\n",
       "      <td>-0.645757</td>\n",
       "      <td>-0.699701</td>\n",
       "      <td>-2.091748</td>\n",
       "    </tr>\n",
       "    <tr>\n",
       "      <th>2000-01-04</th>\n",
       "      <td>-1.571682</td>\n",
       "      <td>-0.563264</td>\n",
       "      <td>0.846843</td>\n",
       "    </tr>\n",
       "  </tbody>\n",
       "</table>\n",
       "</div>"
      ],
      "text/plain": [
       "                   A         B         C\n",
       "2000-01-08  0.871272 -0.014444  0.363459\n",
       "2000-01-06  0.264803 -0.198842  1.040084\n",
       "2000-01-07  0.100862 -0.411988 -1.135035\n",
       "2000-01-02 -0.628477  1.745387  1.012103\n",
       "2000-01-01 -0.645757 -0.699701 -2.091748\n",
       "2000-01-04 -1.571682 -0.563264  0.846843"
      ]
     },
     "execution_count": 99,
     "metadata": {},
     "output_type": "execute_result"
    }
   ],
   "source": [
    "df.sort_values(by=\"A\",ascending=False)"
   ]
  },
  {
   "cell_type": "code",
   "execution_count": 112,
   "id": "8b5d36c6",
   "metadata": {},
   "outputs": [
    {
     "data": {
      "text/html": [
       "<div>\n",
       "<style scoped>\n",
       "    .dataframe tbody tr th:only-of-type {\n",
       "        vertical-align: middle;\n",
       "    }\n",
       "\n",
       "    .dataframe tbody tr th {\n",
       "        vertical-align: top;\n",
       "    }\n",
       "\n",
       "    .dataframe thead th {\n",
       "        text-align: right;\n",
       "    }\n",
       "</style>\n",
       "<table border=\"1\" class=\"dataframe\">\n",
       "  <thead>\n",
       "    <tr style=\"text-align: right;\">\n",
       "      <th></th>\n",
       "      <th>A</th>\n",
       "      <th>B</th>\n",
       "    </tr>\n",
       "  </thead>\n",
       "  <tbody>\n",
       "    <tr>\n",
       "      <th>2000-01-08</th>\n",
       "      <td>0.871272</td>\n",
       "      <td>-0.014444</td>\n",
       "    </tr>\n",
       "    <tr>\n",
       "      <th>2000-01-07</th>\n",
       "      <td>0.100862</td>\n",
       "      <td>-0.411988</td>\n",
       "    </tr>\n",
       "  </tbody>\n",
       "</table>\n",
       "</div>"
      ],
      "text/plain": [
       "                   A         B\n",
       "2000-01-08  0.871272 -0.014444\n",
       "2000-01-07  0.100862 -0.411988"
      ]
     },
     "execution_count": 112,
     "metadata": {},
     "output_type": "execute_result"
    }
   ],
   "source": [
    "df.loc[[\"2000-01-08\",\"2000-01-07\"],[\"A\",\"B\"]]"
   ]
  },
  {
   "cell_type": "code",
   "execution_count": 116,
   "id": "13000b2d",
   "metadata": {},
   "outputs": [
    {
     "ename": "SyntaxError",
     "evalue": "invalid syntax (4174772937.py, line 1)",
     "output_type": "error",
     "traceback": [
      "\u001b[0;36m  File \u001b[0;32m\"/tmp/ipykernel_12113/4174772937.py\"\u001b[0;36m, line \u001b[0;32m1\u001b[0m\n\u001b[0;31m    df.iloc[[1:3],[0,2]]\u001b[0m\n\u001b[0m              ^\u001b[0m\n\u001b[0;31mSyntaxError\u001b[0m\u001b[0;31m:\u001b[0m invalid syntax\n"
     ]
    }
   ],
   "source": [
    "df.iloc[[1,3],[0,2]]"
   ]
  },
  {
   "cell_type": "code",
   "execution_count": null,
   "id": "a531fc16",
   "metadata": {},
   "outputs": [],
   "source": []
  }
 ],
 "metadata": {
  "kernelspec": {
   "display_name": "Python 3 (ipykernel)",
   "language": "python",
   "name": "python3"
  },
  "language_info": {
   "codemirror_mode": {
    "name": "ipython",
    "version": 3
   },
   "file_extension": ".py",
   "mimetype": "text/x-python",
   "name": "python",
   "nbconvert_exporter": "python",
   "pygments_lexer": "ipython3",
   "version": "3.8.10"
  }
 },
 "nbformat": 4,
 "nbformat_minor": 5
}
